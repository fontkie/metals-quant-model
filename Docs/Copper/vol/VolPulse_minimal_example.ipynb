{
 "cells": [
  {
   "cell_type": "markdown",
   "id": "d6f1c72d",
   "metadata": {},
   "source": [
    "# VolPulse — Minimal Example\n",
    "This notebook shows how to run the **VolPulse** pipeline on copper prices, inspect outputs, and plot quick sanity charts.\n",
    "\n",
    "**Assumptions**\n",
    "- Your repo has the folder `C:\\\\Code\\\\Metals\\\\Docs\\\\Copper\\\\vol\\\\` containing `vol_pulse.py` and `vol_pulse.yaml`.\n",
    "- You have a CSV of copper prices with columns: `Date` and `Price`, sorted by date ascending.\n",
    "If you don't have a CSV, the notebook will generate a synthetic demo series.\n"
   ]
  },
  {
   "cell_type": "markdown",
   "id": "da6cfd9a",
   "metadata": {},
   "source": [
    "## 0) Setup"
   ]
  },
  {
   "cell_type": "code",
   "execution_count": null,
   "id": "7e40c9f0",
   "metadata": {},
   "outputs": [],
   "source": [
    "# If needed, uncomment:\n",
    "# !pip install pandas numpy pyyaml matplotlib\n",
    "\n",
    "import os, sys\n",
    "import pandas as pd\n",
    "import numpy as np\n",
    "import matplotlib.pyplot as plt\n",
    "\n",
    "vol_path = r\"C:\\Code\\Metals\\Docs\\Copper\\vol\"\n",
    "if os.path.isdir(vol_path) and vol_path not in sys.path:\n",
    "    sys.path.insert(0, vol_path)\n",
    "\n",
    "from vol_pulse import compute_vol_pulse\n",
    "print(\"Imported compute_vol_pulse from:\", vol_path)"
   ]
  },
  {
   "cell_type": "markdown",
   "id": "ea2210a0",
   "metadata": {},
   "source": [
    "## 1) Load price data"
   ]
  },
  {
   "cell_type": "code",
   "execution_count": null,
   "id": "1ab83b7c",
   "metadata": {},
   "outputs": [],
   "source": [
    "csv_path = r\"C:\\Code\\Metals\\Data\\copper_prices.csv\"  # change to your path\n",
    "\n",
    "def load_or_make_demo(csv_path):\n",
    "    if os.path.exists(csv_path):\n",
    "        df = pd.read_csv(csv_path, parse_dates=[\"Date\"])\n",
    "        df = df.sort_values(\"Date\").reset_index(drop=True)\n",
    "        return df\n",
    "    dates = pd.bdate_range(\"2020-01-01\", periods=800)\n",
    "    price = 6000 + np.cumsum(np.random.normal(0, 20, size=len(dates))) + np.linspace(0, 400, len(dates))\n",
    "    return pd.DataFrame({\"Date\": dates, \"Price\": price})\n",
    "\n",
    "df_prices = load_or_make_demo(csv_path)\n",
    "df_prices.head()"
   ]
  },
  {
   "cell_type": "markdown",
   "id": "38d88ffe",
   "metadata": {},
   "source": [
    "## 2) Run VolPulse"
   ]
  },
  {
   "cell_type": "code",
   "execution_count": null,
   "id": "66bf2453",
   "metadata": {},
   "outputs": [],
   "source": [
    "config_path = os.path.join(vol_path, \"vol_pulse.yaml\")\n",
    "pulse = compute_vol_pulse(df_prices, config_path=config_path)\n",
    "print(pulse.tail(3))\n",
    "pulse.to_csv(\"copper_vol_pulse_output.csv\", index=False)\n",
    "print(\"Saved: copper_vol_pulse_output.csv\")"
   ]
  },
  {
   "cell_type": "markdown",
   "id": "566505bd",
   "metadata": {},
   "source": [
    "## 3) Quick sanity plots"
   ]
  },
  {
   "cell_type": "code",
   "execution_count": null,
   "id": "9f0e2e78",
   "metadata": {},
   "outputs": [],
   "source": [
    "plt.figure(figsize=(10,4))\n",
    "plt.plot(pulse['Date'], pulse['rv21'])\n",
    "plt.title(\"RV21 (Annualised)\"); plt.xlabel(\"Date\"); plt.ylabel(\"Vol (ann.)\")\n",
    "plt.show()\n",
    "\n",
    "plt.figure(figsize=(10,4))\n",
    "plt.plot(pulse['Date'], pulse['pctl'])\n",
    "plt.title(\"Vol Percentile (0–1)\"); plt.xlabel(\"Date\"); plt.ylabel(\"Percentile\")\n",
    "plt.show()\n",
    "\n",
    "plt.figure(figsize=(10,3))\n",
    "plt.plot(pulse['Date'], pulse['crisis'], drawstyle='steps-post')\n",
    "if 'high' in pulse.columns:\n",
    "    plt.plot(pulse['Date'], pulse['high'], drawstyle='steps-post')\n",
    "plt.title(\"Crisis (and High) Flags\"); plt.xlabel(\"Date\"); plt.ylabel(\"Flag\")\n",
    "plt.show()"
   ]
  },
  {
   "cell_type": "markdown",
   "id": "9d6ceb19",
   "metadata": {},
   "source": [
    "## 4) Merge into sleeves"
   ]
  },
  {
   "cell_type": "markdown",
   "id": "e0fab57d",
   "metadata": {},
   "source": [
    "- Merge `state`, `crisis`, `size_mult`, `allow_new`, `stop_mult` on `Date`.\n",
    "- Keep helpers (`rv21`, `pctl`, `drv5`, `spike_*`) for reporting/QA.\n",
    "- A/B test with and without `VolPulse` gating/sizing.\n"
   ]
  }
 ],
 "metadata": {},
 "nbformat": 4,
 "nbformat_minor": 5
}
